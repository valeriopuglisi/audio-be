{
 "cells": [
  {
   "cell_type": "code",
   "execution_count": 1,
   "metadata": {},
   "outputs": [
    {
     "name": "stderr",
     "output_type": "stream",
     "text": [
      "/home/valeriopuglisi/.conda/envs/DLAABE/lib/python3.10/site-packages/tqdm/auto.py:22: TqdmWarning: IProgress not found. Please update jupyter and ipywidgets. See https://ipywidgets.readthedocs.io/en/stable/user_install.html\n",
      "  from .autonotebook import tqdm as notebook_tqdm\n"
     ]
    }
   ],
   "source": [
    "from deep_learning_features_audio import *\n",
    "from deep_learning_dict_api import AudioAnalysisAPI\n",
    "from deep_learning_dict_datasets import Datasets\n",
    "import evaluate\n",
    "from evaluate import load\n",
    "import pandas as pd\n",
    "from pathlib import Path"
   ]
  },
  {
   "cell_type": "code",
   "execution_count": 2,
   "metadata": {},
   "outputs": [],
   "source": [
    "def asr_evaluate_metric_with_model_on_commonvoice(task, dataset, model, metrics, n_test):\n",
    "    predictions = []\n",
    "    references = []\n",
    "    result = {\n",
    "        \"evaluation\": {}\n",
    "    }\n",
    "    # os.walk(dataset_path)\n",
    "    test_table = pd.read_table(Datasets[task][dataset][\"test_file\"])\n",
    "    test_audio_path = Datasets[task][dataset][\"dataset_path\"]\n",
    "    \n",
    "    for i, row in enumerate(test_table.iterrows()):\n",
    "        print(\"Benchmarking: {}/{}\".format(i, test_table.shape[0]))\n",
    "        audiofile_path = row[1][\"path\"]\n",
    "        wav_audiofile_path = os.path.splitext(audiofile_path)[0] + '.wav'\n",
    "        reference = row[1][\"sentence\"].lower()\n",
    "        audio_path = os.path.join(test_audio_path, \"wavs\", wav_audiofile_path)\n",
    "        prediction = AudioAnalysisAPI[model]['function'](audiofile_path=audio_path)\n",
    "        predictions.append(prediction)\n",
    "        references.append(reference)\n",
    "        # print(\"audiofile_path: {}\\n- reference: {}\\n- prediction:{}\\n\".format(audio_path, reference, prediction))\n",
    "        if i == n_test:\n",
    "            break\n",
    "    for metric in metrics:\n",
    "        loaded_metric = load(metric)\n",
    "        # wer = load(\"wer\")\n",
    "        caluculated_metric = loaded_metric.compute(predictions=predictions, references=references)\n",
    "        # wer_score = wer.compute(predictions=predictions, references=references)\n",
    "        print(\"{}: {}\".format(metric, caluculated_metric))\n",
    "        # print(\"wer_score: {}\".format(wer_score))\n",
    "        result['evaluation'][metric] = caluculated_metric\n",
    "    params = {\"model\": model,\n",
    "            \"dataset\": dataset,\n",
    "            \"n_test\": n_test}\n",
    "    evaluate.save(path_or_file=\"./results/\", **result, **params)\n",
    "    return result    \n",
    "    \n"
   ]
  },
  {
   "cell_type": "code",
   "execution_count": null,
   "metadata": {},
   "outputs": [],
   "source": [
    "task = \"Automatic Speech Recognition\"\n",
    "dataset = \"CommonVoice IT\"\n",
    "models = [\n",
    "    '/api/automatic_speech_recognition/asr_wav2vec2_voxpopuli_it',\n",
    "    '/api/automatic_speech_recognition/asr_wav2vec2_commonvoice_it',\n",
    "    '/api/automatic_speech_recognition/asr__crdnn__commonvoice_it']\n",
    "metrics = [\"wer\", \"cer\"]\n",
    "\n",
    "# asr_evaluate_metric_with_model_on_commonvoice(\n",
    "#         task=task,\n",
    "#         dataset=dataset,\n",
    "#         model=models[0],\n",
    "#         metrics=metrics,\n",
    "#         n_test= 3\n",
    "# )\n",
    "\n",
    "# for model in models:\n",
    "#     print(\"===== Benchmark of model: {} dataset: {} \".format(model.split(\"/\")[-1], dataset))\n",
    "#     asr_evaluate_metric_with_model_on_commonvoice(\n",
    "#         task=task,\n",
    "#         dataset=dataset,\n",
    "#         model=model,\n",
    "#         metrics=metrics,\n",
    "#     )"
   ]
  }
 ],
 "metadata": {
  "kernelspec": {
   "display_name": "Python 3.10.4 ('DLAABE')",
   "language": "python",
   "name": "python3"
  },
  "language_info": {
   "codemirror_mode": {
    "name": "ipython",
    "version": 3
   },
   "file_extension": ".py",
   "mimetype": "text/x-python",
   "name": "python",
   "nbconvert_exporter": "python",
   "pygments_lexer": "ipython3",
   "version": "3.10.4"
  },
  "orig_nbformat": 4,
  "vscode": {
   "interpreter": {
    "hash": "b806cf2415d9a7125fea09a144cd06efbd6f0375c85c1aa682e3c6e04c90e28f"
   }
  }
 },
 "nbformat": 4,
 "nbformat_minor": 2
}
