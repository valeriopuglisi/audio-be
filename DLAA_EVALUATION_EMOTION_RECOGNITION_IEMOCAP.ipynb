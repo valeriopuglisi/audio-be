{
 "cells": [
  {
   "cell_type": "code",
   "execution_count": 213,
   "metadata": {},
   "outputs": [],
   "source": [
    "from deep_learning_features_audio import *\n",
    "from deep_learning_dict_api import AudioAnalysisAPI\n",
    "from deep_learning_dict_datasets import Datasets\n",
    "import evaluate\n",
    "from evaluate import load\n",
    "import pandas as pd\n",
    "from pathlib import Path\n",
    "import torch\n",
    "from torchmetrics import Accuracy\n",
    "from datetime import datetime\n",
    "import json\n"
   ]
  },
  {
   "cell_type": "code",
   "execution_count": 214,
   "metadata": {},
   "outputs": [],
   "source": [
    "def emotion_recognition_evaluate_metric_with_model_on_IEMOCAP(task, dataset, model, metrics, n_test):\n",
    "    test_done = 0\n",
    "    errors = 0\n",
    "    predictions = []\n",
    "    references = []\n",
    "    result = {\n",
    "        \"evaluation\": {}\n",
    "    }\n",
    "\n",
    "    emotions_dict ={\n",
    "        \"ang\":0,\n",
    "        \"dis\":1, \n",
    "        \"exc\":2, \n",
    "        \"fea\":3,\n",
    "        \"fru\":4,\n",
    "        \"hap\":5,\n",
    "        \"neu\":6,\n",
    "        \"oth\":7,\t\n",
    "        \"sad\":8,\n",
    "        \"sur\":9,\n",
    "        \"xxx\":10,\n",
    "    }\n",
    "    # os.walk(dataset_path)\n",
    "    test_table = pd.read_csv(Datasets[task][dataset][\"path\"])\n",
    "    tot_sample = test_table.shape[0]\n",
    "    if n_test is None:\n",
    "        n_test = tot_sample\n",
    "    for i, row in enumerate(test_table.iterrows()):\n",
    "        print(\"Benchmarking: {}/{}\".format(i, test_table.shape[0]))\n",
    "        # print(\"row 0 :{}\".format(row[0]))\n",
    "        # print(\"row 1 :{}\".format(row[1][\"audio_path\"]))\n",
    "\n",
    "        audio_path = row[1][\"audio_path\"]\n",
    "        reference = row[1][\"emotion_evaluation_1\"]\n",
    "        # print(\"audio_path:{}\".format(audio_path))\n",
    "        # print(\"reference:{}\".format(reference))\n",
    "        if i == n_test:\n",
    "                break\n",
    "        try:\n",
    "            if os.path.isfile(audio_path):\n",
    "                prediction = AudioAnalysisAPI[model]['function'](audiofile_path=audio_path)\n",
    "                if prediction is not None and prediction != \"\":\n",
    "                    emotion_index_prediction = emotions_dict[prediction[0]]\n",
    "                    emotion_index_reference = emotions_dict[reference]\n",
    "                    predictions.append(emotion_index_prediction)\n",
    "                    references.append(emotion_index_reference)\n",
    "                    print(\"audiofile_path: {}\".format(audio_path))\n",
    "                    print(\"reference: {}, index:{}\".format(reference, emotion_index_reference))\n",
    "                    print(\"prediction:{}, index:{}\".format(prediction[0], emotion_index_prediction))\n",
    "                    print()\n",
    "                    test_done += 1\n",
    "            else:\n",
    "                print(audio_path, \" file doesn't exist\")\n",
    "                errors+=1\n",
    "            \n",
    "        except Exception as e:\n",
    "            print(e)\n",
    "            errors += 1\n",
    "            pass\n",
    "\n",
    "    target = torch.tensor(references)\n",
    "    preds = torch.tensor(predictions)\n",
    "    accuracy = Accuracy()\n",
    "    accuracy_result = accuracy(preds, target)\n",
    "    print(\"==> accuracy_result:{}\".format(accuracy_result))\n",
    "    # Creating the content of result file\n",
    "    result ={\n",
    "        \"model\": model, \n",
    "        \"dataset\": dataset, \n",
    "        \"tot_sample\":tot_sample,\n",
    "        \"n_test\": n_test,\n",
    "        \"n_test_done\": test_done,\n",
    "        \"accuracy\":str(accuracy_result),\n",
    "    }\n",
    "\n",
    "    # Creating filename\n",
    "    dateTimeObj = datetime.now()\n",
    "    print(dateTimeObj)\n",
    "    timestampStr = dateTimeObj.strftime(\"%d_%b_%Y__%H_%M_%S_%f\")\n",
    "    result_filename = timestampStr + \"_evaluate_\" + model.split(\"/\")[-1] + \"_\" + dataset + \"_\" + str(n_test)+\".json\"\n",
    "    print('result_filename : ', result_filename)\n",
    "    with open(result_filename, 'w') as f:\n",
    "        json.dump(result, f)\n",
    "    \n",
    "    return result    \n",
    "    \n"
   ]
  },
  {
   "cell_type": "code",
   "execution_count": 215,
   "metadata": {},
   "outputs": [
    {
     "name": "stdout",
     "output_type": "stream",
     "text": [
      "===== Benchmark of model: wav2vec2_IEMOCAP -- dataset: IEMOCAP \n",
      "Benchmarking: 0/10039\n",
      "row 0 :0\n",
      "row 1 :/storage/data_8T/datasets/audio/IEMOCAP_full_release/Session1/sentences/wav/Ses01M_script01_1/Ses01M_script01_1_F000.wav\n",
      "audio_path:/storage/data_8T/datasets/audio/IEMOCAP_full_release/Session1/sentences/wav/Ses01M_script01_1/Ses01M_script01_1_F000.wav\n",
      "reference:fru\n"
     ]
    },
    {
     "name": "stderr",
     "output_type": "stream",
     "text": [
      "/home/valeriopuglisi/.conda/envs/DLAABE/lib/python3.10/site-packages/transformers/configuration_utils.py:363: UserWarning: Passing `gradient_checkpointing` to a config initialization is deprecated and will be removed in v5 Transformers. Using `model.gradient_checkpointing_enable()` instead, or if you are using the `Trainer` API, pass `gradient_checkpointing=True` in your `TrainingArguments`.\n",
      "  warnings.warn(\n",
      "Some weights of the model checkpoint at facebook/wav2vec2-base were not used when initializing Wav2Vec2Model: ['quantizer.weight_proj.bias', 'project_q.bias', 'quantizer.weight_proj.weight', 'quantizer.codevectors', 'project_q.weight', 'project_hid.weight', 'project_hid.bias']\n",
      "- This IS expected if you are initializing Wav2Vec2Model from the checkpoint of a model trained on another task or with another architecture (e.g. initializing a BertForSequenceClassification model from a BertForPreTraining model).\n",
      "- This IS NOT expected if you are initializing Wav2Vec2Model from the checkpoint of a model that you expect to be exactly identical (initializing a BertForSequenceClassification model from a BertForSequenceClassification model).\n",
      "speechbrain.lobes.models.huggingface_wav2vec - wav2vec 2.0 is frozen.\n"
     ]
    },
    {
     "name": "stdout",
     "output_type": "stream",
     "text": [
      "audiofile_path: /storage/data_8T/datasets/audio/IEMOCAP_full_release/Session1/sentences/wav/Ses01M_script01_1/Ses01M_script01_1_F000.wav\n",
      "reference: fru, index:4\n",
      "prediction:neu, index:6\n",
      "\n",
      "Benchmarking: 1/10039\n",
      "row 0 :1\n",
      "row 1 :/storage/data_8T/datasets/audio/IEMOCAP_full_release/Session1/sentences/wav/Ses01M_script01_1/Ses01M_script01_1_F001.wav\n",
      "audio_path:/storage/data_8T/datasets/audio/IEMOCAP_full_release/Session1/sentences/wav/Ses01M_script01_1/Ses01M_script01_1_F001.wav\n",
      "reference:sur\n"
     ]
    },
    {
     "name": "stderr",
     "output_type": "stream",
     "text": [
      "Some weights of the model checkpoint at facebook/wav2vec2-base were not used when initializing Wav2Vec2Model: ['quantizer.weight_proj.bias', 'project_q.bias', 'quantizer.weight_proj.weight', 'quantizer.codevectors', 'project_q.weight', 'project_hid.weight', 'project_hid.bias']\n",
      "- This IS expected if you are initializing Wav2Vec2Model from the checkpoint of a model trained on another task or with another architecture (e.g. initializing a BertForSequenceClassification model from a BertForPreTraining model).\n",
      "- This IS NOT expected if you are initializing Wav2Vec2Model from the checkpoint of a model that you expect to be exactly identical (initializing a BertForSequenceClassification model from a BertForSequenceClassification model).\n",
      "speechbrain.lobes.models.huggingface_wav2vec - wav2vec 2.0 is frozen.\n"
     ]
    },
    {
     "name": "stdout",
     "output_type": "stream",
     "text": [
      "audiofile_path: /storage/data_8T/datasets/audio/IEMOCAP_full_release/Session1/sentences/wav/Ses01M_script01_1/Ses01M_script01_1_F001.wav\n",
      "reference: sur, index:9\n",
      "prediction:ang, index:0\n",
      "\n",
      "Benchmarking: 2/10039\n",
      "row 0 :2\n",
      "row 1 :/storage/data_8T/datasets/audio/IEMOCAP_full_release/Session1/sentences/wav/Ses01M_script01_1/Ses01M_script01_1_F002.wav\n",
      "audio_path:/storage/data_8T/datasets/audio/IEMOCAP_full_release/Session1/sentences/wav/Ses01M_script01_1/Ses01M_script01_1_F002.wav\n",
      "reference:sur\n"
     ]
    },
    {
     "name": "stderr",
     "output_type": "stream",
     "text": [
      "Some weights of the model checkpoint at facebook/wav2vec2-base were not used when initializing Wav2Vec2Model: ['quantizer.weight_proj.bias', 'project_q.bias', 'quantizer.weight_proj.weight', 'quantizer.codevectors', 'project_q.weight', 'project_hid.weight', 'project_hid.bias']\n",
      "- This IS expected if you are initializing Wav2Vec2Model from the checkpoint of a model trained on another task or with another architecture (e.g. initializing a BertForSequenceClassification model from a BertForPreTraining model).\n",
      "- This IS NOT expected if you are initializing Wav2Vec2Model from the checkpoint of a model that you expect to be exactly identical (initializing a BertForSequenceClassification model from a BertForSequenceClassification model).\n",
      "speechbrain.lobes.models.huggingface_wav2vec - wav2vec 2.0 is frozen.\n"
     ]
    },
    {
     "name": "stdout",
     "output_type": "stream",
     "text": [
      "audiofile_path: /storage/data_8T/datasets/audio/IEMOCAP_full_release/Session1/sentences/wav/Ses01M_script01_1/Ses01M_script01_1_F002.wav\n",
      "reference: sur, index:9\n",
      "prediction:neu, index:6\n",
      "\n",
      "Benchmarking: 3/10039\n",
      "row 0 :3\n",
      "row 1 :/storage/data_8T/datasets/audio/IEMOCAP_full_release/Session1/sentences/wav/Ses01M_script01_1/Ses01M_script01_1_F003.wav\n",
      "audio_path:/storage/data_8T/datasets/audio/IEMOCAP_full_release/Session1/sentences/wav/Ses01M_script01_1/Ses01M_script01_1_F003.wav\n",
      "reference:sur\n"
     ]
    },
    {
     "name": "stderr",
     "output_type": "stream",
     "text": [
      "Some weights of the model checkpoint at facebook/wav2vec2-base were not used when initializing Wav2Vec2Model: ['quantizer.weight_proj.bias', 'project_q.bias', 'quantizer.weight_proj.weight', 'quantizer.codevectors', 'project_q.weight', 'project_hid.weight', 'project_hid.bias']\n",
      "- This IS expected if you are initializing Wav2Vec2Model from the checkpoint of a model trained on another task or with another architecture (e.g. initializing a BertForSequenceClassification model from a BertForPreTraining model).\n",
      "- This IS NOT expected if you are initializing Wav2Vec2Model from the checkpoint of a model that you expect to be exactly identical (initializing a BertForSequenceClassification model from a BertForSequenceClassification model).\n",
      "speechbrain.lobes.models.huggingface_wav2vec - wav2vec 2.0 is frozen.\n"
     ]
    },
    {
     "name": "stdout",
     "output_type": "stream",
     "text": [
      "audiofile_path: /storage/data_8T/datasets/audio/IEMOCAP_full_release/Session1/sentences/wav/Ses01M_script01_1/Ses01M_script01_1_F003.wav\n",
      "reference: sur, index:9\n",
      "prediction:ang, index:0\n",
      "\n",
      "Benchmarking: 4/10039\n",
      "row 0 :4\n",
      "row 1 :/storage/data_8T/datasets/audio/IEMOCAP_full_release/Session1/sentences/wav/Ses01M_script01_1/Ses01M_script01_1_F004.wav\n",
      "audio_path:/storage/data_8T/datasets/audio/IEMOCAP_full_release/Session1/sentences/wav/Ses01M_script01_1/Ses01M_script01_1_F004.wav\n",
      "reference:sad\n"
     ]
    },
    {
     "name": "stderr",
     "output_type": "stream",
     "text": [
      "Some weights of the model checkpoint at facebook/wav2vec2-base were not used when initializing Wav2Vec2Model: ['quantizer.weight_proj.bias', 'project_q.bias', 'quantizer.weight_proj.weight', 'quantizer.codevectors', 'project_q.weight', 'project_hid.weight', 'project_hid.bias']\n",
      "- This IS expected if you are initializing Wav2Vec2Model from the checkpoint of a model trained on another task or with another architecture (e.g. initializing a BertForSequenceClassification model from a BertForPreTraining model).\n",
      "- This IS NOT expected if you are initializing Wav2Vec2Model from the checkpoint of a model that you expect to be exactly identical (initializing a BertForSequenceClassification model from a BertForSequenceClassification model).\n",
      "speechbrain.lobes.models.huggingface_wav2vec - wav2vec 2.0 is frozen.\n"
     ]
    },
    {
     "name": "stdout",
     "output_type": "stream",
     "text": [
      "audiofile_path: /storage/data_8T/datasets/audio/IEMOCAP_full_release/Session1/sentences/wav/Ses01M_script01_1/Ses01M_script01_1_F004.wav\n",
      "reference: sad, index:8\n",
      "prediction:sad, index:8\n",
      "\n",
      "Benchmarking: 5/10039\n",
      "row 0 :5\n",
      "row 1 :/storage/data_8T/datasets/audio/IEMOCAP_full_release/Session1/sentences/wav/Ses01M_script01_1/Ses01M_script01_1_F005.wav\n",
      "audio_path:/storage/data_8T/datasets/audio/IEMOCAP_full_release/Session1/sentences/wav/Ses01M_script01_1/Ses01M_script01_1_F005.wav\n",
      "reference:sad\n"
     ]
    },
    {
     "name": "stderr",
     "output_type": "stream",
     "text": [
      "Some weights of the model checkpoint at facebook/wav2vec2-base were not used when initializing Wav2Vec2Model: ['quantizer.weight_proj.bias', 'project_q.bias', 'quantizer.weight_proj.weight', 'quantizer.codevectors', 'project_q.weight', 'project_hid.weight', 'project_hid.bias']\n",
      "- This IS expected if you are initializing Wav2Vec2Model from the checkpoint of a model trained on another task or with another architecture (e.g. initializing a BertForSequenceClassification model from a BertForPreTraining model).\n",
      "- This IS NOT expected if you are initializing Wav2Vec2Model from the checkpoint of a model that you expect to be exactly identical (initializing a BertForSequenceClassification model from a BertForSequenceClassification model).\n",
      "speechbrain.lobes.models.huggingface_wav2vec - wav2vec 2.0 is frozen.\n"
     ]
    },
    {
     "name": "stdout",
     "output_type": "stream",
     "text": [
      "audiofile_path: /storage/data_8T/datasets/audio/IEMOCAP_full_release/Session1/sentences/wav/Ses01M_script01_1/Ses01M_script01_1_F005.wav\n",
      "reference: sad, index:8\n",
      "prediction:neu, index:6\n",
      "\n",
      "Benchmarking: 6/10039\n",
      "row 0 :6\n",
      "row 1 :/storage/data_8T/datasets/audio/IEMOCAP_full_release/Session1/sentences/wav/Ses01M_script01_1/Ses01M_script01_1_F006.wav\n",
      "audio_path:/storage/data_8T/datasets/audio/IEMOCAP_full_release/Session1/sentences/wav/Ses01M_script01_1/Ses01M_script01_1_F006.wav\n",
      "reference:sad\n"
     ]
    },
    {
     "name": "stderr",
     "output_type": "stream",
     "text": [
      "Some weights of the model checkpoint at facebook/wav2vec2-base were not used when initializing Wav2Vec2Model: ['quantizer.weight_proj.bias', 'project_q.bias', 'quantizer.weight_proj.weight', 'quantizer.codevectors', 'project_q.weight', 'project_hid.weight', 'project_hid.bias']\n",
      "- This IS expected if you are initializing Wav2Vec2Model from the checkpoint of a model trained on another task or with another architecture (e.g. initializing a BertForSequenceClassification model from a BertForPreTraining model).\n",
      "- This IS NOT expected if you are initializing Wav2Vec2Model from the checkpoint of a model that you expect to be exactly identical (initializing a BertForSequenceClassification model from a BertForSequenceClassification model).\n",
      "speechbrain.lobes.models.huggingface_wav2vec - wav2vec 2.0 is frozen.\n"
     ]
    },
    {
     "name": "stdout",
     "output_type": "stream",
     "text": [
      "audiofile_path: /storage/data_8T/datasets/audio/IEMOCAP_full_release/Session1/sentences/wav/Ses01M_script01_1/Ses01M_script01_1_F006.wav\n",
      "reference: sad, index:8\n",
      "prediction:neu, index:6\n",
      "\n",
      "Benchmarking: 7/10039\n",
      "row 0 :7\n",
      "row 1 :/storage/data_8T/datasets/audio/IEMOCAP_full_release/Session1/sentences/wav/Ses01M_script01_1/Ses01M_script01_1_F007.wav\n",
      "audio_path:/storage/data_8T/datasets/audio/IEMOCAP_full_release/Session1/sentences/wav/Ses01M_script01_1/Ses01M_script01_1_F007.wav\n",
      "reference:fru\n"
     ]
    },
    {
     "name": "stderr",
     "output_type": "stream",
     "text": [
      "Some weights of the model checkpoint at facebook/wav2vec2-base were not used when initializing Wav2Vec2Model: ['quantizer.weight_proj.bias', 'project_q.bias', 'quantizer.weight_proj.weight', 'quantizer.codevectors', 'project_q.weight', 'project_hid.weight', 'project_hid.bias']\n",
      "- This IS expected if you are initializing Wav2Vec2Model from the checkpoint of a model trained on another task or with another architecture (e.g. initializing a BertForSequenceClassification model from a BertForPreTraining model).\n",
      "- This IS NOT expected if you are initializing Wav2Vec2Model from the checkpoint of a model that you expect to be exactly identical (initializing a BertForSequenceClassification model from a BertForSequenceClassification model).\n",
      "speechbrain.lobes.models.huggingface_wav2vec - wav2vec 2.0 is frozen.\n"
     ]
    },
    {
     "name": "stdout",
     "output_type": "stream",
     "text": [
      "audiofile_path: /storage/data_8T/datasets/audio/IEMOCAP_full_release/Session1/sentences/wav/Ses01M_script01_1/Ses01M_script01_1_F007.wav\n",
      "reference: fru, index:4\n",
      "prediction:ang, index:0\n",
      "\n",
      "Benchmarking: 8/10039\n",
      "row 0 :8\n",
      "row 1 :/storage/data_8T/datasets/audio/IEMOCAP_full_release/Session1/sentences/wav/Ses01M_script01_1/Ses01M_script01_1_F008.wav\n",
      "audio_path:/storage/data_8T/datasets/audio/IEMOCAP_full_release/Session1/sentences/wav/Ses01M_script01_1/Ses01M_script01_1_F008.wav\n",
      "reference:ang\n"
     ]
    },
    {
     "name": "stderr",
     "output_type": "stream",
     "text": [
      "Some weights of the model checkpoint at facebook/wav2vec2-base were not used when initializing Wav2Vec2Model: ['quantizer.weight_proj.bias', 'project_q.bias', 'quantizer.weight_proj.weight', 'quantizer.codevectors', 'project_q.weight', 'project_hid.weight', 'project_hid.bias']\n",
      "- This IS expected if you are initializing Wav2Vec2Model from the checkpoint of a model trained on another task or with another architecture (e.g. initializing a BertForSequenceClassification model from a BertForPreTraining model).\n",
      "- This IS NOT expected if you are initializing Wav2Vec2Model from the checkpoint of a model that you expect to be exactly identical (initializing a BertForSequenceClassification model from a BertForSequenceClassification model).\n",
      "speechbrain.lobes.models.huggingface_wav2vec - wav2vec 2.0 is frozen.\n"
     ]
    },
    {
     "name": "stdout",
     "output_type": "stream",
     "text": [
      "audiofile_path: /storage/data_8T/datasets/audio/IEMOCAP_full_release/Session1/sentences/wav/Ses01M_script01_1/Ses01M_script01_1_F008.wav\n",
      "reference: ang, index:0\n",
      "prediction:ang, index:0\n",
      "\n",
      "Benchmarking: 9/10039\n",
      "row 0 :9\n",
      "row 1 :/storage/data_8T/datasets/audio/IEMOCAP_full_release/Session1/sentences/wav/Ses01M_script01_1/Ses01M_script01_1_F009.wav\n",
      "audio_path:/storage/data_8T/datasets/audio/IEMOCAP_full_release/Session1/sentences/wav/Ses01M_script01_1/Ses01M_script01_1_F009.wav\n",
      "reference:xxx\n"
     ]
    },
    {
     "name": "stderr",
     "output_type": "stream",
     "text": [
      "Some weights of the model checkpoint at facebook/wav2vec2-base were not used when initializing Wav2Vec2Model: ['quantizer.weight_proj.bias', 'project_q.bias', 'quantizer.weight_proj.weight', 'quantizer.codevectors', 'project_q.weight', 'project_hid.weight', 'project_hid.bias']\n",
      "- This IS expected if you are initializing Wav2Vec2Model from the checkpoint of a model trained on another task or with another architecture (e.g. initializing a BertForSequenceClassification model from a BertForPreTraining model).\n",
      "- This IS NOT expected if you are initializing Wav2Vec2Model from the checkpoint of a model that you expect to be exactly identical (initializing a BertForSequenceClassification model from a BertForSequenceClassification model).\n",
      "speechbrain.lobes.models.huggingface_wav2vec - wav2vec 2.0 is frozen.\n"
     ]
    },
    {
     "name": "stdout",
     "output_type": "stream",
     "text": [
      "audiofile_path: /storage/data_8T/datasets/audio/IEMOCAP_full_release/Session1/sentences/wav/Ses01M_script01_1/Ses01M_script01_1_F009.wav\n",
      "reference: xxx, index:10\n",
      "prediction:neu, index:6\n",
      "\n",
      "Benchmarking: 10/10039\n",
      "row 0 :10\n",
      "row 1 :/storage/data_8T/datasets/audio/IEMOCAP_full_release/Session1/sentences/wav/Ses01M_script01_1/Ses01M_script01_1_F010.wav\n",
      "audio_path:/storage/data_8T/datasets/audio/IEMOCAP_full_release/Session1/sentences/wav/Ses01M_script01_1/Ses01M_script01_1_F010.wav\n",
      "reference:sur\n",
      "==> accuracy_result:0.20000000298023224\n",
      "2022-10-14 14:55:58.119538\n",
      "result_filename :  14_Oct_2022__14_55_58_119538_evaluate_wav2vec2_IEMOCAP_IEMOCAP_10.json\n"
     ]
    }
   ],
   "source": [
    "task = \"Emotion Recognition\"\n",
    "dataset = \"IEMOCAP\"\n",
    "models = [\n",
    "    '/api/emotion_recognition/wav2vec2_IEMOCAP',\n",
    "    ]\n",
    "metrics = [\"accuracy\"]\n",
    "\n",
    "n_test = 10\n",
    "\n",
    "for model in models:\n",
    "    print(\"===== Benchmark of model: {} -- dataset: {} \".format(model.split(\"/\")[-1], dataset))\n",
    "    emotion_recognition_evaluate_metric_with_model_on_IEMOCAP(\n",
    "        task=task,\n",
    "        dataset=dataset,\n",
    "        model=model,\n",
    "        metrics=metrics,\n",
    "        n_test=n_test\n",
    "    )"
   ]
  }
 ],
 "metadata": {
  "kernelspec": {
   "display_name": "Python 3.10.4 ('DLAABE')",
   "language": "python",
   "name": "python3"
  },
  "language_info": {
   "codemirror_mode": {
    "name": "ipython",
    "version": 3
   },
   "file_extension": ".py",
   "mimetype": "text/x-python",
   "name": "python",
   "nbconvert_exporter": "python",
   "pygments_lexer": "ipython3",
   "version": "3.10.4"
  },
  "orig_nbformat": 4,
  "vscode": {
   "interpreter": {
    "hash": "b806cf2415d9a7125fea09a144cd06efbd6f0375c85c1aa682e3c6e04c90e28f"
   }
  }
 },
 "nbformat": 4,
 "nbformat_minor": 2
}
