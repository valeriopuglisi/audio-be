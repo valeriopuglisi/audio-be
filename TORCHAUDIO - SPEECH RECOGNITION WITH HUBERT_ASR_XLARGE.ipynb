{
 "cells": [
  {
   "cell_type": "code",
   "execution_count": 1,
   "id": "21d54600",
   "metadata": {},
   "outputs": [
    {
     "name": "stdout",
     "output_type": "stream",
     "text": [
      "1.11.0+cpu\n",
      "0.11.0+cpu\n",
      "cpu\n"
     ]
    }
   ],
   "source": [
    "# %matplotlib inline\n",
    "\n",
    "import os\n",
    "\n",
    "import IPython\n",
    "import matplotlib\n",
    "import matplotlib.pyplot as plt\n",
    "import requests\n",
    "import torch\n",
    "import torchaudio\n",
    "\n",
    "matplotlib.rcParams[\"figure.figsize\"] = [16.0, 4.8]\n",
    "\n",
    "torch.random.manual_seed(0)\n",
    "device = torch.device(\"cuda\" if torch.cuda.is_available() else \"cpu\")\n",
    "\n",
    "print(torch.__version__)\n",
    "print(torchaudio.__version__)\n",
    "print(device)\n",
    "\n"
   ]
  },
  {
   "cell_type": "code",
   "execution_count": 2,
   "id": "709f4dec",
   "metadata": {},
   "outputs": [],
   "source": [
    "SPEECH_URL = \"https://pytorch-tutorial-assets.s3.amazonaws.com/VOiCES_devkit/source-16k/train/sp0307/Lab41-SRI-VOiCES-src-sp0307-ch127535-sg0042.wav\"  # noqa: E501\n",
    "SPEECH_FILE = \"_assets/speech.wav\"\n",
    "\n",
    "if not os.path.exists(SPEECH_FILE):\n",
    "    os.makedirs(\"_assets\", exist_ok=True)\n",
    "    with open(SPEECH_FILE, \"wb\") as file:\n",
    "        file.write(requests.get(SPEECH_URL).content)"
   ]
  },
  {
   "cell_type": "markdown",
   "id": "ac2207f1",
   "metadata": {},
   "source": [
    "### Creating a pipeline\n",
    "First, we will create a Wav2Vec2 model that performs the feature extraction and the classification.\n",
    "\n",
    "There are two types of Wav2Vec2 pre-trained weights available in torchaudio. The ones fine-tuned for ASR task, and the ones not fine-tuned.\n",
    "\n",
    "Wav2Vec2 (and HuBERT) models are trained in self-supervised manner. They are firstly trained with audio only for representation learning, then fine-tuned for a specific task with additional labels.\n",
    "\n",
    "The pre-trained weights without fine-tuning can be fine-tuned for other downstream tasks as well, but this tutorial does not cover that.\n",
    "\n",
    "### We will use torchaudio.pipelines.HUBERT_ASR_XLARGE\n",
    " () here.\n",
    "\n",
    "There are multiple models available as torchaudio.pipelines. Please check the documentation for the detail of how they are trained.\n",
    "\n",
    "The bundle object provides the interface to instantiate model and other information. Sampling rate and the class labels are found as follow."
   ]
  },
  {
   "cell_type": "code",
   "execution_count": 3,
   "id": "52b06bb9",
   "metadata": {},
   "outputs": [
    {
     "name": "stdout",
     "output_type": "stream",
     "text": [
      "Sample Rate: 16000\n",
      "Labels: ('-', '|', 'E', 'T', 'A', 'O', 'N', 'I', 'H', 'S', 'R', 'D', 'L', 'U', 'M', 'W', 'C', 'F', 'G', 'Y', 'P', 'B', 'V', 'K', \"'\", 'X', 'J', 'Q', 'Z')\n"
     ]
    }
   ],
   "source": [
    "bundle = torchaudio.pipelines.HUBERT_ASR_XLARGE\n",
    "\n",
    "print(\"Sample Rate:\", bundle.sample_rate)\n",
    "print(\"Labels:\", bundle.get_labels())"
   ]
  },
  {
   "cell_type": "markdown",
   "id": "2d66a41b",
   "metadata": {},
   "source": [
    "Model can be constructed as following. This process will automatically fetch the pre-trained weights and load it into the model.\n"
   ]
  },
  {
   "cell_type": "code",
   "execution_count": null,
   "id": "45175835",
   "metadata": {},
   "outputs": [
    {
     "name": "stderr",
     "output_type": "stream",
     "text": [
      "Downloading: \"https://download.pytorch.org/torchaudio/models/hubert_fairseq_large_ll60k_asr_ls960.pth\" to C:\\Users\\User/.cache\\torch\\hub\\checkpoints\\hubert_fairseq_large_ll60k_asr_ls960.pth\n"
     ]
    },
    {
     "data": {
      "application/vnd.jupyter.widget-view+json": {
       "model_id": "d095d2a38e554f25bb031df4ad815943",
       "version_major": 2,
       "version_minor": 0
      },
      "text/plain": [
       "  0%|          | 0.00/1.18G [00:00<?, ?B/s]"
      ]
     },
     "metadata": {},
     "output_type": "display_data"
    }
   ],
   "source": [
    "model = bundle.get_model().to(device)\n",
    "print(model.__class__)"
   ]
  },
  {
   "cell_type": "markdown",
   "id": "fef09d73",
   "metadata": {},
   "source": [
    "### Loading data\n",
    "We will use the speech data from VOiCES dataset, which is licensed under Creative Commos BY 4.0.\n",
    "\n"
   ]
  },
  {
   "cell_type": "code",
   "execution_count": null,
   "id": "b340129c",
   "metadata": {},
   "outputs": [],
   "source": [
    "IPython.display.Audio(SPEECH_FILE)"
   ]
  },
  {
   "cell_type": "markdown",
   "id": "d6fb710f",
   "metadata": {},
   "source": [
    "To load data, we use torchaudio.load().\n",
    "\n",
    "If the sampling rate is different from what the pipeline expects, then we can use torchaudio.functional.resample() for resampling."
   ]
  },
  {
   "cell_type": "markdown",
   "id": "8a6f7536",
   "metadata": {},
   "source": [
    " -- torchaudio.functional.resample() works on CUDA tensors as well.\n",
    " \n",
    " -- When performing resampling multiple times on the same set of sample rates, using torchaudio.transforms.Resample() might improve the performace.\n"
   ]
  },
  {
   "cell_type": "code",
   "execution_count": null,
   "id": "cd58bf0a",
   "metadata": {},
   "outputs": [],
   "source": [
    "waveform, sample_rate = torchaudio.load(SPEECH_FILE)\n",
    "waveform = waveform.to(device)\n",
    "print(\"Waveform shape: {} - Sample Rate: {}\".format(waveform.shape, sample_rate))\n",
    "# RESAMPLE WAVEFORM TO THE SAME SAMPLE RATE OF USED NETWORK\n",
    "if sample_rate != bundle.sample_rate:\n",
    "    waveform = torchaudio.functional.resample(waveform, sample_rate, bundle.sample_rate)"
   ]
  },
  {
   "cell_type": "markdown",
   "id": "87bf7e47",
   "metadata": {},
   "source": [
    "## Extracting acoustic features\n",
    "The next step is to extract acoustic features from the audio.\n",
    "\n",
    "### NOTE\n",
    "\n",
    "Wav2Vec2 models fine-tuned for ASR task can perform feature extraction and classification with one step, but for the sake of the tutorial, we also show how to perform feature extraction here.\n"
   ]
  },
  {
   "cell_type": "code",
   "execution_count": null,
   "id": "e153d630",
   "metadata": {},
   "outputs": [],
   "source": [
    "with torch.inference_mode():\n",
    "    features, _ = model.extract_features(waveform)\n",
    "\n",
    "print(\"features:{}, \".format(len(features)))"
   ]
  },
  {
   "cell_type": "markdown",
   "id": "f4b4207b",
   "metadata": {},
   "source": [
    "The returned features is a list of tensors. Each tensor is the output of a transformer layer."
   ]
  },
  {
   "cell_type": "code",
   "execution_count": null,
   "id": "7ae2552f",
   "metadata": {},
   "outputs": [],
   "source": [
    "fig, ax = plt.subplots(len(features), 1, figsize=(16, 4.3 * len(features)))\n",
    "for i, feats in enumerate(features):\n",
    "    ax[i].imshow(feats[0].cpu())\n",
    "    ax[i].set_title(f\"Feature from transformer layer {i+1}\")\n",
    "    ax[i].set_xlabel(\"Feature dimension\")\n",
    "    ax[i].set_ylabel(\"Frame (time-axis)\")\n",
    "plt.tight_layout()\n",
    "plt.show()"
   ]
  },
  {
   "cell_type": "markdown",
   "id": "03eaeefd",
   "metadata": {},
   "source": [
    "## Feature classification\n",
    "Once the acoustic features are extracted, the next step is to classify them into a set of categories.\n",
    "\n",
    "Wav2Vec2 model provides method to perform the feature extraction and classification in one step.\n",
    "\n"
   ]
  },
  {
   "cell_type": "code",
   "execution_count": null,
   "id": "81a23b11",
   "metadata": {},
   "outputs": [],
   "source": [
    "with torch.inference_mode():\n",
    "    emission, _ = model(waveform)"
   ]
  },
  {
   "cell_type": "markdown",
   "id": "1016df69",
   "metadata": {},
   "source": [
    "The output is in the form of logits. It is not in the form of probability.\n",
    "\n",
    "Let’s visualize this."
   ]
  },
  {
   "cell_type": "code",
   "execution_count": null,
   "id": "4458ebf9",
   "metadata": {},
   "outputs": [],
   "source": [
    "plt.imshow(emission[0].cpu().T)\n",
    "plt.title(\"Classification result\")\n",
    "plt.xlabel(\"Frame (time-axis)\")\n",
    "plt.ylabel(\"Class\")\n",
    "plt.show()\n"
   ]
  },
  {
   "cell_type": "code",
   "execution_count": null,
   "id": "9c05a587",
   "metadata": {},
   "outputs": [],
   "source": [
    "print(\"Class labels:\", bundle.get_labels())"
   ]
  },
  {
   "cell_type": "markdown",
   "id": "a607f8f9",
   "metadata": {},
   "source": [
    "We can see that there are strong indications to certain labels across the time line.\n",
    "\n"
   ]
  },
  {
   "cell_type": "markdown",
   "id": "4e620c48",
   "metadata": {},
   "source": [
    "### Generating transcripts\n",
    "From the sequence of label probabilities, now we want to generate transcripts. The process to generate hypotheses is often called “decoding”.\n",
    "\n",
    "Decoding is more elaborate than simple classification because decoding at certain time step can be affected by surrounding observations.\n",
    "\n",
    "For example, take a word like night and knight. Even if their prior probability distribution are differnt (in typical conversations, night would occur way more often than knight), to accurately generate transcripts with knight, such as a knight with a sword, the decoding process has to postpone the final decision until it sees enough context.\n",
    "\n",
    "There are many decoding techniques proposed, and they require external resources, such as word dictionary and language models.\n",
    "\n",
    "In this tutorial, for the sake of simplicity, we will perform greedy decoding which does not depend on such external components, and simply pick up the best hypothesis at each time step. Therefore, the context information are not used, and only one transcript can be generated.\n",
    "\n",
    "We start by defining greedy decoding algorithm."
   ]
  },
  {
   "cell_type": "code",
   "execution_count": null,
   "id": "002b928e",
   "metadata": {},
   "outputs": [],
   "source": [
    "class GreedyCTCDecoder(torch.nn.Module):\n",
    "    def __init__(self, labels, blank=0):\n",
    "        super().__init__()\n",
    "        self.labels = labels\n",
    "        self.blank = blank\n",
    "\n",
    "    def forward(self, emission: torch.Tensor) -> str:\n",
    "        \"\"\"Given a sequence emission over labels, get the best path string\n",
    "        Args:\n",
    "          emission (Tensor): Logit tensors. Shape `[num_seq, num_label]`.\n",
    "\n",
    "        Returns:\n",
    "          str: The resulting transcript\n",
    "        \"\"\"\n",
    "        indices = torch.argmax(emission, dim=-1)  # [num_seq,]\n",
    "        indices = torch.unique_consecutive(indices, dim=-1)\n",
    "        indices = [i for i in indices if i != self.blank]\n",
    "        return \"\".join([self.labels[i] for i in indices])"
   ]
  },
  {
   "cell_type": "code",
   "execution_count": null,
   "id": "2c8a2fe7",
   "metadata": {},
   "outputs": [],
   "source": [
    "# Now create the decoder object and decode the transcript.\n",
    "decoder = GreedyCTCDecoder(labels=bundle.get_labels())\n",
    "transcript = decoder(emission[0])"
   ]
  },
  {
   "cell_type": "code",
   "execution_count": null,
   "id": "a4b5b1cf",
   "metadata": {},
   "outputs": [],
   "source": [
    "# Let’s check the result and listen again to the audio.\n",
    "\n",
    "print(transcript)\n",
    "IPython.display.Audio(SPEECH_FILE)"
   ]
  },
  {
   "cell_type": "code",
   "execution_count": null,
   "id": "6643483e",
   "metadata": {},
   "outputs": [],
   "source": []
  }
 ],
 "metadata": {
  "kernelspec": {
   "display_name": "Python 3 (ipykernel)",
   "language": "python",
   "name": "python3"
  },
  "language_info": {
   "codemirror_mode": {
    "name": "ipython",
    "version": 3
   },
   "file_extension": ".py",
   "mimetype": "text/x-python",
   "name": "python",
   "nbconvert_exporter": "python",
   "pygments_lexer": "ipython3",
   "version": "3.7.13"
  }
 },
 "nbformat": 4,
 "nbformat_minor": 5
}
